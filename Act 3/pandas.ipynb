{
 "cells": [
  {
   "cell_type": "code",
   "execution_count": null,
   "metadata": {},
   "outputs": [],
   "source": [
    "import pandas as pd\n",
    "\n",
    "archivo_log = \"log_completo.csv\"\n",
    "\n",
    "datos_log = pd.read_csv(archivo_log,encoding='utf-8')\n",
    "\n",
    "def mi_funcion(datos, *args):\n",
    "\n",
    "    datos = datos[(datos['Origen'] == 'web') & (datos['Nombre completo del usuario'].isin(args))]\n",
    "                    \n",
    "    datos = datos.loc[datos.groupby('Nombre completo del usuario')['indice_raro'].idxmax()]\n",
    "    \n",
    "    return datos\n",
    "resultado = mi_funcion(datos_log,\"Hypno\", \"Butterfree\", \"Rhyhorn\", \"Slowpoke\")\n",
    "resultado\n"
   ]
  },
  {
   "cell_type": "code",
   "execution_count": null,
   "metadata": {},
   "outputs": [],
   "source": [
    "series = pd.Series(list(resultado['Nombre completo del usuario']),index=resultado['indice_raro'])\n",
    "series"
   ]
  },
  {
   "cell_type": "code",
   "execution_count": null,
   "metadata": {},
   "outputs": [],
   "source": [
    "series.to_dict()"
   ]
  }
 ],
 "metadata": {
  "kernelspec": {
   "display_name": "Python 3",
   "language": "python",
   "name": "python3"
  },
  "language_info": {
   "codemirror_mode": {
    "name": "ipython",
    "version": 3
   },
   "file_extension": ".py",
   "mimetype": "text/x-python",
   "name": "python",
   "nbconvert_exporter": "python",
   "pygments_lexer": "ipython3",
   "version": "3.11.2"
  },
  "orig_nbformat": 4
 },
 "nbformat": 4,
 "nbformat_minor": 2
}
